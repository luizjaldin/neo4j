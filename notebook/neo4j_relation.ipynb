{
 "cells": [
  {
   "cell_type": "code",
   "execution_count": 106,
   "metadata": {},
   "outputs": [],
   "source": [
    "#import libs\n",
    "from neo4j import GraphDatabase\n",
    "import pandas as pd"
   ]
  },
  {
   "cell_type": "code",
   "execution_count": 107,
   "metadata": {},
   "outputs": [],
   "source": [
    "#conexão com o banco de dados\n",
    "uri = \"bolt://localhost:7687\"\n",
    "username = \"luiz88\"\n",
    "password = \"12345678\""
   ]
  },
  {
   "cell_type": "code",
   "execution_count": 123,
   "metadata": {},
   "outputs": [],
   "source": [
    "df = pd.read_csv('steam.csv')"
   ]
  },
  {
   "cell_type": "code",
   "execution_count": 124,
   "metadata": {},
   "outputs": [],
   "source": [
    "#abre a conexão\n",
    "driver = GraphDatabase.driver(uri, auth=(username, password))"
   ]
  },
  {
   "cell_type": "code",
   "execution_count": 125,
   "metadata": {},
   "outputs": [],
   "source": [
    "relations = [['developer','platforms','DEVELOPING_TO'],\n",
    "             ['publisher','genres','DEVELOPING_TO'],\n",
    "             ['publisher','steamspy_tags','DEVELOPING_TO'],]"
   ]
  },
  {
   "cell_type": "code",
   "execution_count": 126,
   "metadata": {},
   "outputs": [],
   "source": [
    "def create_relationship(node_1, node_2, relation_type):\n",
    "    ''''\n",
    "    Função para criar relacionamento entre o nó game e os demais nós\n",
    "    '''\n",
    "    with driver.session() as session:\n",
    "        node_2[1] = node_2[1].replace(\"'\",\"\")\n",
    "        session.run(F\"\"\"MATCH (a:{node_1[0]} {{name: '{node_1[1]}'}}), \n",
    "                        (b:{node_2[0]} {{name: '{node_2[1]}'}})\n",
    "                        CREATE (a)-[:{relation_type}_{node_2[0].upper()}]->(b)\n",
    "                    \"\"\")"
   ]
  },
  {
   "cell_type": "code",
   "execution_count": 127,
   "metadata": {},
   "outputs": [],
   "source": [
    "for rel in relations:\n",
    "    qtd_columns = df[rel[1]].str.split(';', expand=True).shape[1]\n",
    "    df_temp = pd.DataFrame()\n",
    "\n",
    "    for round in range(0,qtd_columns):\n",
    "        df_temp_value = df[rel[1]].str.split(';', expand=True)[round]\n",
    "        df_temp_key = df[rel[0]]\n",
    "        df_round = pd.concat([df_temp_key,df_temp_value], axis=1).rename(columns={round:'value'})\n",
    "        df_temp = pd.concat([df_temp,df_round], axis=0).drop_duplicates().dropna()\n",
    "        df_temp['relation'] = rel[-1]\n",
    "\n",
    "    for event in zip(df_temp[rel[0]],df_temp['value'],df_temp['relation']):\n",
    "        create_relationship([rel[0],event[0].replace(\"'\",\"\")], \n",
    "                            [rel[1],event[1].replace(\"'\",\"\")],\n",
    "                            event[2])"
   ]
  },
  {
   "cell_type": "code",
   "execution_count": null,
   "metadata": {},
   "outputs": [
    {
     "data": {
      "text/plain": [
       "'Travellers Tales'"
      ]
     },
     "execution_count": 104,
     "metadata": {},
     "output_type": "execute_result"
    }
   ],
   "source": []
  },
  {
   "cell_type": "code",
   "execution_count": null,
   "metadata": {},
   "outputs": [],
   "source": []
  }
 ],
 "metadata": {
  "kernelspec": {
   "display_name": "n_projects",
   "language": "python",
   "name": "n_projects"
  },
  "language_info": {
   "codemirror_mode": {
    "name": "ipython",
    "version": 3
   },
   "file_extension": ".py",
   "mimetype": "text/x-python",
   "name": "python",
   "nbconvert_exporter": "python",
   "pygments_lexer": "ipython3",
   "version": "3.7.16"
  }
 },
 "nbformat": 4,
 "nbformat_minor": 2
}
